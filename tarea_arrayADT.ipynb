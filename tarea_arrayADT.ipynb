{
  "nbformat": 4,
  "nbformat_minor": 0,
  "metadata": {
    "colab": {
      "name": "tarea_arrayADT.ipynb",
      "provenance": [],
      "authorship_tag": "ABX9TyMFUP1pj27gxNLTdi7Iu3mn",
      "include_colab_link": true
    },
    "kernelspec": {
      "name": "python3",
      "display_name": "Python 3"
    },
    "language_info": {
      "name": "python"
    }
  },
  "cells": [
    {
      "cell_type": "markdown",
      "metadata": {
        "id": "view-in-github",
        "colab_type": "text"
      },
      "source": [
        "<a href=\"https://colab.research.google.com/github/CarlosGarMon/Cuestionario_control_07-10-21/blob/main/tarea_arrayADT.ipynb\" target=\"_parent\"><img src=\"https://colab.research.google.com/assets/colab-badge.svg\" alt=\"Open In Colab\"/></a>"
      ]
    },
    {
      "cell_type": "markdown",
      "metadata": {
        "id": "_sSqbMYFlTHk"
      },
      "source": [
        "La carpeta datos es volatil (cuando cerramos colab se apaga la máquina virtual y solamente guarda el código)."
      ]
    },
    {
      "cell_type": "code",
      "metadata": {
        "id": "PjwjSCO8lKgy"
      },
      "source": [
        "cat junio.dat"
      ],
      "execution_count": null,
      "outputs": []
    },
    {
      "cell_type": "code",
      "metadata": {
        "id": "O4AfOJfym8eT"
      },
      "source": [
        "archivo = open('junio.dat', 'rt', encoding='latin-1' ) #Para que interprete los caracteres especiales del español\n",
        "print(archivo.read())"
      ],
      "execution_count": null,
      "outputs": []
    },
    {
      "cell_type": "code",
      "metadata": {
        "id": "yJafpIhpn6k2"
      },
      "source": [
        "class Trabajador:\n",
        "    def __init__(self , nt, nom, pat, mat, he, sb, ai):\n",
        "        self.__numero_trabajador = nt \n",
        "        self.__nombres = nom\n",
        "        self.__apellido_paterno = pat\n",
        "        self.__apellido_materno = mat\n",
        "        self.__horas_extras = he\n",
        "        self.__sueldo_base = sb\n",
        "        self.__anio_ingreso = ai\n",
        "        #asi para todos los atributos \n",
        "\n",
        "    # aqui van todos los métodos de acceso\n",
        "        def set:numero_trabajador( self, nt):\n",
        "            self.__numero_trabajador = nt \n",
        "\n",
        "    # métodos de uso gral --> metodos que hacen cálculos: horas extra, etc.\n"
      ],
      "execution_count": null,
      "outputs": []
    },
    {
      "cell_type": "code",
      "metadata": {
        "id": "8D4kBjDMqBa8"
      },
      "source": [
        "class NominaADT:\n",
        "    def __init__( self, ruta_archivo ):\n",
        "        #Abre el archivo y determina el nomero de empleados (numero de lineas) y lo mete en en una variable llamada num empleados\n",
        "        self.__data = Array( num_emp )\n",
        "\n",
        "    def calcular_sueldos( self ):\n",
        "        #iterar sobre el Array y hacer el calculo de sueldos \n",
        "\n",
        "    def buscar_mas_antiguo( self ):\n",
        "        #itera y buscará en el array el de mayor antiguedad\n",
        "    \n",
        "    def buscar_menor_antiguedad( self ):\n"
      ],
      "execution_count": null,
      "outputs": []
    },
    {
      "cell_type": "code",
      "metadata": {
        "colab": {
          "base_uri": "https://localhost:8080/"
        },
        "id": "vvUBcnjvuE18",
        "outputId": "935f985d-0d61-4192-c3aa-ecf96c82579a"
      },
      "source": [
        "#Ejemplo de prestacion:\n",
        "sueldo_base = 100\n",
        "anio_ingreso = 2019\n",
        "antiguedad = 2\n",
        "prestacion = 100 *(2*0.03)\n",
        "print(sueldo_base + prestacion)"
      ],
      "execution_count": 7,
      "outputs": [
        {
          "output_type": "stream",
          "name": "stdout",
          "text": [
            "106.0\n"
          ]
        }
      ]
    }
  ]
}